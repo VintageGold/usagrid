{
 "cells": [
  {
   "cell_type": "code",
   "execution_count": 1,
   "id": "778586c6",
   "metadata": {},
   "outputs": [],
   "source": [
    "# #scale data\n",
    "\n",
    "# scale_tovalue = 10\n",
    "# scale_amount = 5\n",
    "\n",
    "# scaling_ratio = scale_tovalue/scale_amount\n",
    "\n",
    "# scale_total = scaling_ratio * scale_amount\n",
    "\n",
    "# scale_total"
   ]
  },
  {
   "cell_type": "code",
   "execution_count": 5,
   "id": "2bca7e2f",
   "metadata": {},
   "outputs": [
    {
     "name": "stdout",
     "output_type": "stream",
     "text": [
      "505259\n",
      "range(0, 505259, 5000)\n"
     ]
    },
    {
     "name": "stderr",
     "output_type": "stream",
     "text": [
      "End Date 2022-12 and total records 505259: 100%|██████████| 102/102 [10:12<00:00,  6.01s/it]\n"
     ]
    }
   ],
   "source": [
    "\n",
    "import pandas as pd\n",
    "from usagrid import eia\n",
    "import yaml\n",
    "\n",
    "with open(\"../../cred.yaml\") as f:\n",
    "\n",
    "    data = yaml.safe_load(f.read())\n",
    "\n",
    "    api_key = data[\"EIA\"][\"key\"]\n",
    "\n",
    "start_date = \"2022-01-01\"\n",
    "end_date = \"2022-12-31\"\n",
    "\n",
    "\n",
    "EIA_mod = eia.EIA(api_key=api_key,start_date=start_date,end_date=end_date)\n",
    "\n",
    "df_response = EIA_mod.get_powerplant(test=False)"
   ]
  },
  {
   "cell_type": "markdown",
   "id": "e1c20d81",
   "metadata": {},
   "source": [
    "# End Here"
   ]
  },
  {
   "cell_type": "code",
   "execution_count": null,
   "id": "3ab15ac6-59bf-4476-8b0a-73732ac68de0",
   "metadata": {},
   "outputs": [],
   "source": [
    "# import pandas as pd\n",
    "# from pathlib import Path\n",
    "# from datetime import datetime\n",
    "# import yaml\n",
    "# from library import eia\n",
    "\n",
    "# def main():\n",
    "\n",
    "#     with open(\"cred.yaml\") as f:\n",
    "\n",
    "#         data = yaml.safe_load(f.read())\n",
    "\n",
    "#         api_key = data[\"EIA\"][\"key\"]\n",
    "\n",
    "        \n",
    "#     start_date = \"2022-01-01\"\n",
    "#     end_date = \"2024-03-06\"\n",
    "\n",
    "#     EIA_mod = eia.EIA(api_key=api_key,\n",
    "#                 start_date=start_date,\n",
    "#                 end_date=end_date)\n",
    "\n",
    "#     df = EIA_mod.get_balancingauthority(test=False)\n",
    "\n"
   ]
  }
 ],
 "metadata": {
  "kernelspec": {
   "display_name": "Python 3 (ipykernel)",
   "language": "python",
   "name": "python3"
  },
  "language_info": {
   "codemirror_mode": {
    "name": "ipython",
    "version": 3
   },
   "file_extension": ".py",
   "mimetype": "text/x-python",
   "name": "python",
   "nbconvert_exporter": "python",
   "pygments_lexer": "ipython3",
   "version": "3.12.2"
  }
 },
 "nbformat": 4,
 "nbformat_minor": 5
}
