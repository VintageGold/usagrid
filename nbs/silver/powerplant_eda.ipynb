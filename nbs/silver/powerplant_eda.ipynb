{
 "cells": [
  {
   "cell_type": "code",
   "execution_count": 2,
   "metadata": {},
   "outputs": [],
   "source": [
    "from usagrid import s3\n",
    "import pandas as pd\n",
    "\n",
    "files = s3.list_files_in_folder(\"usagrid\",\"landingarea/powerplant\")[1:]\n",
    "\n",
    "dfs = [s3.read_pyarrow_df_from_s3(\"usagrid\",f).to_pandas() for f in files[:]]\n",
    "\n",
    "df = pd.concat(dfs)"
   ]
  },
  {
   "cell_type": "code",
   "execution_count": 33,
   "metadata": {},
   "outputs": [],
   "source": [
    "def set_dtypes(df):\n",
    "    \n",
    "    data = df.copy()\n",
    "\n",
    "    dtypes_dict = {'period':\"datetime64[ns]\",\n",
    "    'plantCode':\"object\",\n",
    "    'plantName':\"object\",\n",
    "    'fuel2002':\"object\",\n",
    "    'fuelTypeDescription':\"object\",\n",
    "    'state':\"object\",\n",
    "    'stateDescription':\"object\",\n",
    "    'primeMover':\"object\",\n",
    "    'average-heat-content':\"float64\",\n",
    "    'average-heat-content-units':\"object\",\n",
    "    'consumption-for-eg':\"float64\",\n",
    "    'consumption-for-eg-units':\"object\",\n",
    "    'consumption-for-eg-btu':\"float64\",\n",
    "    'generation':\"float64\",\n",
    "    'gross-generation':\"float64\",\n",
    "    'total-consumption':\"float64\",\n",
    "    'total-consumption-units':\"object\",\n",
    "    'total-consumption-btu':\"float64\",\n",
    "    'consumption-for-eg-btu-units':\"object\",\n",
    "    'generation-units':\"object\",\n",
    "    'gross-generation-units':\"object\",\n",
    "    'total-consumption-btu-units':\"object\"\n",
    "    }\n",
    "\n",
    "    for k, v in dtypes_dict.items():\n",
    "\n",
    "        data[k] = data[k].astype(v)\n",
    "\n",
    "    return data\n",
    "\n",
    "def filter_out_ALL_fuel(df):\n",
    "\n",
    "    return df.query('fuel2002 != \"ALL\"')\n",
    "\n",
    "def filter_out_ALL_prime_movers(df):\n",
    "\n",
    "    return df.query('primeMover != \"ALL\"')\n",
    "\n",
    "\n",
    "def extract_year(df):\n",
    "\n",
    "    return df.assign(year=df.period.dt.year)\n",
    "\n",
    "modified = (\n",
    "df\n",
    ".pipe(set_dtypes)\n",
    ".pipe(extract_year)\n",
    ".pipe(filter_out_ALL_fuel)\\\n",
    ".pipe(filter_out_ALL_prime_movers)\n",
    ")"
   ]
  },
  {
   "cell_type": "code",
   "execution_count": 36,
   "metadata": {},
   "outputs": [
    {
     "data": {
      "text/html": [
       "<div>\n",
       "<style scoped>\n",
       "    .dataframe tbody tr th:only-of-type {\n",
       "        vertical-align: middle;\n",
       "    }\n",
       "\n",
       "    .dataframe tbody tr th {\n",
       "        vertical-align: top;\n",
       "    }\n",
       "\n",
       "    .dataframe thead th {\n",
       "        text-align: right;\n",
       "    }\n",
       "</style>\n",
       "<table border=\"1\" class=\"dataframe\">\n",
       "  <thead>\n",
       "    <tr style=\"text-align: right;\">\n",
       "      <th></th>\n",
       "      <th>generation</th>\n",
       "      <th>gross-generation</th>\n",
       "      <th>total-consumption</th>\n",
       "    </tr>\n",
       "    <tr>\n",
       "      <th>year</th>\n",
       "      <th></th>\n",
       "      <th></th>\n",
       "      <th></th>\n",
       "    </tr>\n",
       "  </thead>\n",
       "  <tbody>\n",
       "    <tr>\n",
       "      <th>2022</th>\n",
       "      <td>1.014910e+09</td>\n",
       "      <td>1.067361e+09</td>\n",
       "      <td>3.692905e+09</td>\n",
       "    </tr>\n",
       "    <tr>\n",
       "      <th>2023</th>\n",
       "      <td>3.274087e+09</td>\n",
       "      <td>3.432687e+09</td>\n",
       "      <td>1.282050e+10</td>\n",
       "    </tr>\n",
       "  </tbody>\n",
       "</table>\n",
       "</div>"
      ],
      "text/plain": [
       "        generation  gross-generation  total-consumption\n",
       "year                                                   \n",
       "2022  1.014910e+09      1.067361e+09       3.692905e+09\n",
       "2023  3.274087e+09      3.432687e+09       1.282050e+10"
      ]
     },
     "execution_count": 36,
     "metadata": {},
     "output_type": "execute_result"
    }
   ],
   "source": [
    "modified.groupby(\"year\")[[\"generation\",\"gross-generation\",\"total-consumption\"]].sum()"
   ]
  },
  {
   "cell_type": "code",
   "execution_count": null,
   "metadata": {},
   "outputs": [],
   "source": []
  }
 ],
 "metadata": {
  "interpreter": {
   "hash": "362e93d984d2573b122c06e29542bbb2defa244209c8ad48b4b7876effdc28ed"
  },
  "kernelspec": {
   "display_name": "Python 3.12.2 ('usagrid')",
   "language": "python",
   "name": "python3"
  },
  "language_info": {
   "codemirror_mode": {
    "name": "ipython",
    "version": 3
   },
   "file_extension": ".py",
   "mimetype": "text/x-python",
   "name": "python",
   "nbconvert_exporter": "python",
   "pygments_lexer": "ipython3",
   "version": "3.12.2"
  },
  "orig_nbformat": 4
 },
 "nbformat": 4,
 "nbformat_minor": 2
}
