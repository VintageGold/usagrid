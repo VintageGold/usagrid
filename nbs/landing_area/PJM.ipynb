{
 "cells": [
  {
   "cell_type": "code",
   "execution_count": 1,
   "metadata": {},
   "outputs": [],
   "source": [
    "from usagrid import s3\n",
    "import pandas as pd"
   ]
  },
  {
   "cell_type": "code",
   "execution_count": 18,
   "metadata": {},
   "outputs": [],
   "source": [
    "#Generation\n",
    "fs = s3.list_files_in_folder(\"usagrid\",folder_name=\"landing_area/PJM/generation\")\n",
    "dfs = [s3.read_csv_from_s3(bucket_name=\"usagrid\",key=f) for f in fs]\n",
    "\n",
    "df_generation = pd.concat(dfs)\n",
    "\n",
    "s3.write_pyarrow_to_s3(bucket_name=\"usagrid\",object_key=\"bronze/PJM/generation.arrow\",data=df_generation)"
   ]
  },
  {
   "cell_type": "code",
   "execution_count": 19,
   "metadata": {},
   "outputs": [],
   "source": [
    "#Load Metered\n",
    "fs = s3.list_files_in_folder(\"usagrid\",folder_name=\"landing_area/PJM/load_metered\")\n",
    "dfs = [s3.read_csv_from_s3(bucket_name=\"usagrid\",key=f) for f in fs]\n",
    "\n",
    "df_generation = pd.concat(dfs)\n",
    "\n",
    "s3.write_pyarrow_to_s3(bucket_name=\"usagrid\",object_key=\"bronze/PJM/load_metered.arrow\",data=df_generation)"
   ]
  },
  {
   "cell_type": "code",
   "execution_count": 20,
   "metadata": {},
   "outputs": [],
   "source": [
    "#Load Forecast\n",
    "fs = s3.list_files_in_folder(\"usagrid\",folder_name=\"landing_area/PJM/load_forecast\")\n",
    "dfs = [s3.read_csv_from_s3(bucket_name=\"usagrid\",key=f) for f in fs]\n",
    "\n",
    "df_generation = pd.concat(dfs)\n",
    "\n",
    "s3.write_pyarrow_to_s3(bucket_name=\"usagrid\",object_key=\"bronze/PJM/load_forecast.arrow\",data=df_generation)"
   ]
  },
  {
   "cell_type": "code",
   "execution_count": null,
   "metadata": {},
   "outputs": [],
   "source": []
  }
 ],
 "metadata": {
  "interpreter": {
   "hash": "362e93d984d2573b122c06e29542bbb2defa244209c8ad48b4b7876effdc28ed"
  },
  "kernelspec": {
   "display_name": "Python 3.12.2 ('usagrid')",
   "language": "python",
   "name": "python3"
  },
  "language_info": {
   "codemirror_mode": {
    "name": "ipython",
    "version": 3
   },
   "file_extension": ".py",
   "mimetype": "text/x-python",
   "name": "python",
   "nbconvert_exporter": "python",
   "pygments_lexer": "ipython3",
   "version": "3.12.2"
  },
  "orig_nbformat": 4
 },
 "nbformat": 4,
 "nbformat_minor": 2
}
