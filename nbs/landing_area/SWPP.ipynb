{
 "cells": [
  {
   "cell_type": "code",
   "execution_count": 4,
   "metadata": {},
   "outputs": [],
   "source": [
    "from usagrid import s3"
   ]
  },
  {
   "cell_type": "code",
   "execution_count": 5,
   "metadata": {},
   "outputs": [],
   "source": [
    "from dataclasses import dataclass,field\n",
    "from typing import List\n",
    "\n",
    "@dataclass\n",
    "class Setup:\n",
    "    YEAR:str= \"2022\"\n",
    "    Expected_Start_Date:str= \"2022-01-01\"\n",
    "    Expected_End_Date:str= \"2022-12-31\"\n",
    "    PARSE_DATES:List[str]=field(default_factory=lambda: [\"GMT MKT Interval\"])"
   ]
  },
  {
   "cell_type": "code",
   "execution_count": 6,
   "metadata": {},
   "outputs": [],
   "source": [
    "@dataclass\n",
    "class generation_mix_historical:\n",
    "    COAL_MARKET:str= \"float64\"\n",
    "    COAL_SELF:str= \"float64\"\n",
    "    DIESEL_FUEL_OIL_MARKET:str= \"float64\"\n",
    "    DIESEL_FUEL_OIL_SELF:str= \"float64\"\n",
    "    HYDRO_MARKET:str= \"float64\"\n",
    "    HYDRO_SELF:str= \"float64\"\n",
    "    NATURAL_GAS_MARKET:str= \"float64\"\n",
    "    GAS_SELF:str= \"float64\"\n",
    "    NUCLEAR_MARKET:str= \"float64\"\n",
    "    NUCLEAR_SELF:str= \"float64\"\n",
    "    SOLAR_MARKET:str= \"float64\"\n",
    "    SOLAR_SELF:str= \"float64\"\n",
    "    WASTE_DISPOSAL_SERVICES_MARKET:str= \"float64\"\n",
    "    WASTE_DISPOSAL_SERVICES_SELF:str= \"float64\"\n",
    "    WIND_MARKET:str= \"float64\"\n",
    "    WIND_SELF:str= \"float64\"\n",
    "    WASTE_HEAT_MARKET:str= \"float64\"\n",
    "    WASTE_HEAT_SELF:str= \"float64\"\n",
    "    OTHER_MARKET:str= \"float64\"\n",
    "    OTHER_SELF:str= \"float64\"\n",
    "    LOAD:str= \"float64\""
   ]
  },
  {
   "cell_type": "code",
   "execution_count": 8,
   "metadata": {},
   "outputs": [
    {
     "name": "stderr",
     "output_type": "stream",
     "text": [
      "2024: 100%|██████████| 7/7 [01:24<00:00, 12.09s/it]         \n"
     ]
    }
   ],
   "source": [
    "import pandas as pd\n",
    "import requests\n",
    "from tqdm import tqdm\n",
    "from io import StringIO\n",
    "\n",
    "setup = Setup()\n",
    "GMH = generation_mix_historical()\n",
    "\n",
    "schema = GMH.__dict__\n",
    "\n",
    "\n",
    "years = [2018,2019,2020,2021,2022,2023,2024]\n",
    "records = list()\n",
    "\n",
    "df_main = pd.DataFrame()\n",
    "\n",
    "pbar = tqdm(years[:],leave=True)\n",
    "\n",
    "for year in pbar:\n",
    "\n",
    "    pbar.set_description(str(year))\n",
    "\n",
    "    url = f'https://marketplace.spp.org/file-browser-api/download/generation-mix-historical?path=%2FGenMix_{year}.csv'\n",
    "\n",
    "    response = requests.get(url)\n",
    "\n",
    "\n",
    "    buffer = StringIO(response.text)\n",
    "\n",
    "    if buffer.getvalue():\n",
    "\n",
    "        df = pd.read_csv(buffer,converters=schema,parse_dates=setup.PARSE_DATES)\n",
    "\n",
    "        pbar.set_description(str(year) + \" \" + str(len(response.text)))\n",
    "\n",
    "        df_main = pd.concat([df_main,df])\n",
    "\n",
    "    else:\n",
    "        continue\n",
    "\n",
    "\n",
    "    "
   ]
  },
  {
   "cell_type": "code",
   "execution_count": 11,
   "metadata": {},
   "outputs": [],
   "source": [
    "s3.write_pyarrow_to_s3(bucket_name=\"usagrid\",object_key=\"landing_area/SWPP/SWPP_generation_load.arrow\",data=df_main)"
   ]
  },
  {
   "cell_type": "code",
   "execution_count": null,
   "metadata": {},
   "outputs": [],
   "source": []
  }
 ],
 "metadata": {
  "interpreter": {
   "hash": "362e93d984d2573b122c06e29542bbb2defa244209c8ad48b4b7876effdc28ed"
  },
  "kernelspec": {
   "display_name": "Python 3.12.2 ('usagrid')",
   "language": "python",
   "name": "python3"
  },
  "language_info": {
   "codemirror_mode": {
    "name": "ipython",
    "version": 3
   },
   "file_extension": ".py",
   "mimetype": "text/x-python",
   "name": "python",
   "nbconvert_exporter": "python",
   "pygments_lexer": "ipython3",
   "version": "3.12.2"
  },
  "orig_nbformat": 4
 },
 "nbformat": 4,
 "nbformat_minor": 2
}
