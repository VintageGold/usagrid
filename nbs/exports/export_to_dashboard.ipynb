{
 "cells": [
  {
   "cell_type": "code",
   "execution_count": 1,
   "metadata": {},
   "outputs": [],
   "source": [
    "from usagrid import s3\n",
    "import pandas as pd\n",
    "\n",
    "# Load data from s3\n",
    "\n",
    "files = s3.list_files_in_folder(\"usagrid\",\"landingarea/balancing_authority\")[1:]\n",
    "\n",
    "dfs = [s3.read_pyarrow_df_from_s3(\"usagrid\",f).to_pandas() for f in files[:]]\n",
    "\n",
    "\n",
    "df = pd.concat(dfs)"
   ]
  },
  {
   "cell_type": "code",
   "execution_count": 2,
   "metadata": {},
   "outputs": [],
   "source": [
    "from usagrid import s3\n",
    "import pandas as pd\n",
    "\n",
    "# Load data from s3\n",
    "\n",
    "files = s3.list_files_in_folder(\"usagrid\",\"landingarea/powerplant\")[1:]\n",
    "\n",
    "dfs = [s3.read_pyarrow_df_from_s3(\"usagrid\",f).to_pandas() for f in files[:]]\n",
    "\n",
    "\n",
    "df_ba = pd.concat(dfs)"
   ]
  },
  {
   "cell_type": "code",
   "execution_count": null,
   "metadata": {},
   "outputs": [],
   "source": [
    "import geopandas as gpd\n",
    "\n"
   ]
  }
 ],
 "metadata": {
  "interpreter": {
   "hash": "362e93d984d2573b122c06e29542bbb2defa244209c8ad48b4b7876effdc28ed"
  },
  "kernelspec": {
   "display_name": "Python 3.12.2 ('usagrid')",
   "language": "python",
   "name": "python3"
  },
  "language_info": {
   "codemirror_mode": {
    "name": "ipython",
    "version": 3
   },
   "file_extension": ".py",
   "mimetype": "text/x-python",
   "name": "python",
   "nbconvert_exporter": "python",
   "pygments_lexer": "ipython3",
   "version": "3.12.2"
  },
  "orig_nbformat": 4
 },
 "nbformat": 4,
 "nbformat_minor": 2
}
